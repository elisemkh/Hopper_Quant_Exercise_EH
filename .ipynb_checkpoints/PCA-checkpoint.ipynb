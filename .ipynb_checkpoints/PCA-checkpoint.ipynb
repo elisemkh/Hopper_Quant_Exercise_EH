{
 "cells": [
  {
   "cell_type": "markdown",
   "metadata": {},
   "source": [
    "# Optional PCA to reduce dimensionality of the dataset\n",
    "In this notebook I perform PCA on the training data to reduce the dimensionality. I then save that set as a different dataset and use it in the RF classifer in Part II.\n",
    "\n",
    "## Importing Modules"
   ]
  },
  {
   "cell_type": "code",
   "execution_count": 1,
   "metadata": {
    "collapsed": true
   },
   "outputs": [],
   "source": [
    "import pandas as pd\n",
    "import numpy as np\n",
    "import csv\n",
    "import matplotlib.pyplot as plt\n",
    "import seaborn as sns\n",
    "%matplotlib inline\n",
    "\n",
    "from sklearn.decomposition import PCA\n",
    "from sklearn.preprocessing import StandardScaler\n",
    "from sklearn import metrics"
   ]
  },
  {
   "cell_type": "markdown",
   "metadata": {},
   "source": [
    "## Importing the data"
   ]
  },
  {
   "cell_type": "code",
   "execution_count": 2,
   "metadata": {
    "collapsed": true
   },
   "outputs": [],
   "source": [
    "train_features = np.loadtxt('../train_features.txt', dtype=int)\n",
    "test_features = np.loadtxt('../test_features.txt', dtype=int)"
   ]
  },
  {
   "cell_type": "markdown",
   "metadata": {},
   "source": [
    "## Standardizing the data"
   ]
  },
  {
   "cell_type": "code",
   "execution_count": 3,
   "metadata": {},
   "outputs": [
    {
     "name": "stderr",
     "output_type": "stream",
     "text": [
      "/anaconda3/lib/python3.6/site-packages/sklearn/utils/validation.py:475: DataConversionWarning: Data with input dtype int64 was converted to float64 by StandardScaler.\n",
      "  warnings.warn(msg, DataConversionWarning)\n"
     ]
    }
   ],
   "source": [
    "scaler = StandardScaler()\n",
    "scaler.fit(train_features)\n",
    "train_features_std = scaler.transform(train_features)\n",
    "test_features_std = scaler.transform(test_features)"
   ]
  },
  {
   "cell_type": "markdown",
   "metadata": {},
   "source": [
    "## Applying PCA"
   ]
  },
  {
   "cell_type": "code",
   "execution_count": 4,
   "metadata": {
    "collapsed": true
   },
   "outputs": [],
   "source": [
    "pca = PCA()"
   ]
  },
  {
   "cell_type": "code",
   "execution_count": 5,
   "metadata": {},
   "outputs": [
    {
     "data": {
      "text/plain": [
       "PCA(copy=True, iterated_power='auto', n_components=None, random_state=None,\n",
       "  svd_solver='auto', tol=0.0, whiten=False)"
      ]
     },
     "execution_count": 5,
     "metadata": {},
     "output_type": "execute_result"
    }
   ],
   "source": [
    "pca.fit(train_features_std)"
   ]
  },
  {
   "cell_type": "code",
   "execution_count": 6,
   "metadata": {},
   "outputs": [
    {
     "data": {
      "text/plain": [
       "52"
      ]
     },
     "execution_count": 6,
     "metadata": {},
     "output_type": "execute_result"
    }
   ],
   "source": [
    "pca.n_components_"
   ]
  },
  {
   "cell_type": "code",
   "execution_count": 7,
   "metadata": {
    "collapsed": true
   },
   "outputs": [],
   "source": [
    "train_features_pca  = pca.transform(train_features_std)\n",
    "test_features_pca = pca.transform(test_features_std)"
   ]
  },
  {
   "cell_type": "markdown",
   "metadata": {},
   "source": [
    "## Choosing the number of components to use"
   ]
  },
  {
   "cell_type": "code",
   "execution_count": 11,
   "metadata": {},
   "outputs": [
    {
     "data": {
      "image/png": "[encoded data removed]",
      "text/plain": [
       "<matplotlib.figure.Figure at 0x1a14de5080>"
      ]
     },
     "metadata": {},
     "output_type": "display_data"
    }
   ],
   "source": [
    "pca_fit = pca.fit(train_features_std)\n",
    "_ = plt.figure(figsize = (12,6))\n",
    "sns.set(style = 'darkgrid')\n",
    "_ = plt.scatter(np.arange(1,53), np.cumsum(pca_fit.explained_variance_ratio_))\n",
    "_ = plt.xlabel('number of components')\n",
    "_ = plt.ylabel('cumulative explained variance')"
   ]
  },
  {
   "cell_type": "markdown",
   "metadata": {},
   "source": [
    "The explained variance seems to get to its max when using 35 components. I will calculate how many components are needed to retain 99% of variance, and then decide how many components to use."
   ]
  },
  {
   "cell_type": "code",
   "execution_count": 12,
   "metadata": {
    "collapsed": true
   },
   "outputs": [],
   "source": [
    "ev_nc = pd.DataFrame({'num_components' : np.arange(1,53), 'ev' : np.cumsum(pca_fit.explained_variance_ratio_)})"
   ]
  },
  {
   "cell_type": "code",
   "execution_count": 15,
   "metadata": {},
   "outputs": [
    {
     "name": "stdout",
     "output_type": "stream",
     "text": [
      "In order to retain  99%  of explained variance  34  components are required.\n",
      "In order to retain  95%  of explained variance  29  components are required.\n",
      "In order to retain  90%  of explained variance  25  components are required.\n"
     ]
    }
   ],
   "source": [
    "num_comp = []\n",
    "for n, m in zip(['99%', '95%', '90%'], [.99, .95, .9]):\n",
    "    e = min(ev_nc['num_components'][ev_nc['ev'] >= m])\n",
    "    num_comp.append(e)\n",
    "    print('In order to retain ', n, ' of explained variance ', e, ' components are required.')"
   ]
  },
  {
   "cell_type": "markdown",
   "metadata": {},
   "source": [
    "I am exporting all three datasets- 99%, 95%, and 90% to compare their performances in the RF model."
   ]
  },
  {
   "cell_type": "code",
   "execution_count": 63,
   "metadata": {
    "collapsed": true
   },
   "outputs": [],
   "source": [
    "train_features_pca99  = pca99.transform(train_features_std)\n",
    "test_features_pca99 = pca99.transform(test_features_std)\n",
    "\n",
    "train_features_pca95  = pca95.transform(train_features_std)\n",
    "test_features_pca95 = pca95.transform(test_features_std)\n",
    "\n",
    "train_features_pca90  = pca90.transform(train_features_std)\n",
    "test_features_pca90 = pca90.transform(test_features_std)"
   ]
  },
  {
   "cell_type": "code",
   "execution_count": 66,
   "metadata": {
    "collapsed": true
   },
   "outputs": [],
   "source": [
    "    for m,x in zip([train_features_pca99, test_features_pca99, train_features_pca95, test_features_pca95, train_features_pca90, test_features_pca90], ['train_features_pca99','test_features_pca99','train_features_pca95', 'test_features_pca95','train_features_pca90','test_features_pca90']):\n",
    "        np.savetxt('../' + x + '.txt', m, fmt='%d')"
   ]
  }
 ],
 "metadata": {
  "kernelspec": {
   "display_name": "Python 3",
   "language": "python",
   "name": "python3"
  },
  "language_info": {
   "codemirror_mode": {
    "name": "ipython",
    "version": 3
   },
   "file_extension": ".py",
   "mimetype": "text/x-python",
   "name": "python",
   "nbconvert_exporter": "python",
   "pygments_lexer": "ipython3",
   "version": "3.6.3"
  }
 },
 "nbformat": 4,
 "nbformat_minor": 2
}
